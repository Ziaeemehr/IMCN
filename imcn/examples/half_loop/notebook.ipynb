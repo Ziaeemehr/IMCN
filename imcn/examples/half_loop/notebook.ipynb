{
 "cells": [
  {
   "cell_type": "code",
   "execution_count": 1,
   "metadata": {},
   "outputs": [],
   "source": [
    "import sys\n",
    "import warnings\n",
    "import numpy as np\n",
    "import pylab as plt\n",
    "from numpy import pi\n",
    "from copy import copy\n",
    "from tqdm import tqdm\n",
    "from time import time\n",
    "from multiprocessing import Pool\n",
    "from numpy.random import uniform\n",
    "from imcn import calc_TE, calc_MI\n",
    "from jitcsim.models.kuramoto_sde import Kuramoto_II\n",
    "from imcn.utility import time_average_correlation_matrix_links\n",
    "warnings.filterwarnings(\"ignore\")"
   ]
  },
  {
   "cell_type": "code",
   "execution_count": 10,
   "metadata": {},
   "outputs": [],
   "source": [
    "FIG_WIDTH, FIG_HEIGHT = 4, 4\n",
    "plt.rc('figure', figsize=(FIG_WIDTH, FIG_HEIGHT))\n",
    "\n",
    "LABELSIZE = 14\n",
    "plt.rc('axes', labelsize=LABELSIZE)\n",
    "plt.rc('axes', titlesize=LABELSIZE)\n",
    "plt.rc('figure', titlesize=LABELSIZE)\n",
    "plt.rc('legend', fontsize=LABELSIZE)\n",
    "plt.rc('xtick', labelsize=LABELSIZE)\n",
    "plt.rc('ytick', labelsize=LABELSIZE)"
   ]
  },
  {
   "cell_type": "code",
   "execution_count": 2,
   "metadata": {},
   "outputs": [],
   "source": [
    "np.random.seed(2)"
   ]
  },
  {
   "cell_type": "code",
   "execution_count": 7,
   "metadata": {},
   "outputs": [],
   "source": [
    "def simulateHalfLoop(parameters, direction, couplings, links, num_threads=1):\n",
    "\n",
    "    if direction == \"backward\":\n",
    "        couplings_ = copy(couplings[::-1])\n",
    "    else:\n",
    "        couplings_ = copy(couplings)\n",
    "\n",
    "    n = len(couplings_)\n",
    "    nl = len(links)\n",
    "    R = np.zeros(n)\n",
    "    Corr = np.zeros((n, nl))\n",
    "    TE = np.zeros((n, nl))\n",
    "    MI = np.zeros((n, nl))\n",
    "\n",
    "    prev_phases = parameters['initial_state']\n",
    "\n",
    "    # for itr in tqdm(range(n)):\n",
    "    for itr in range(n):\n",
    "\n",
    "        I = Kuramoto_II(parameters)\n",
    "        I.set_initial_state(prev_phases)\n",
    "        I.set_integrator_parameters(atol=1e-6, rtol=1e-3)\n",
    "        data = I.simulate([couplings_[itr]], mode_2pi=False)\n",
    "        x = data['x']\n",
    "        # store the last phases as initial phases for next loop\n",
    "        prev_phases = x[-1, :]\n",
    "\n",
    "        # correlation matrix\n",
    "        corr = time_average_correlation_matrix_links(x, links, step=10)\n",
    "\n",
    "        # TE and MI\n",
    "        te = np.zeros(nl)\n",
    "        mi = np.zeros(nl)\n",
    "\n",
    "        for i in range(nl):\n",
    "            source_id = links[i][0]\n",
    "            target_id = links[i][1]\n",
    "            source = x[:-1, source_id]\n",
    "            target = np.diff(x[:, target_id])\n",
    "            if parameters[\"CALCUALTE_TE\"]:\n",
    "                te[i], _, _ = calc_TE(source,\n",
    "                                target,\n",
    "                                num_threads=num_threads)\n",
    "            if parameters[\"CALCULATE_MI\"]:\n",
    "                mi[i], _, _ = calc_MI(source,\n",
    "                                target,\n",
    "                                TIME_DIFF=0,\n",
    "                                NUM_THREADS=num_threads)\n",
    "        \n",
    "        TE[itr, :] = te\n",
    "        MI[itr, :] = mi\n",
    "        Corr[itr, :] = corr\n",
    "        R[itr] = np.mean(I.order_parameter(x))\n",
    "\n",
    "    return {\"g\": couplings_,\n",
    "            \"R\": R,\n",
    "            \"te\": TE,\n",
    "            \"mi\": MI,\n",
    "            \"cor\": Corr}\n",
    "            "
   ]
  },
  {
   "cell_type": "code",
   "execution_count": 4,
   "metadata": {},
   "outputs": [],
   "source": [
    "# SETTING PARAMETERS --------------------------------------------\n",
    "N = 3\n",
    "omega = [0.3, 0.4, 0.5]\n",
    "initial_state = uniform(-pi, pi, N)\n",
    "noise_amplitude = 0.005\n",
    "\n",
    "# aij means there is a link from j to i\n",
    "adj = np.asarray([[0, 1, 0],\n",
    "                  [0, 0, 1],\n",
    "                  [0, 0, 0]])\n",
    "\n",
    "parameters = {\n",
    "    'N': N,                             # number of nodes\n",
    "    'adj': adj,                         # adjacency matrix\n",
    "    't_initial': 0.,                    # initial time of integration\n",
    "    \"t_final\": 500,                     # final time of integration\n",
    "    't_transition': 400.0,              # transition time\n",
    "    \"interval\": 0.05,                   # time interval for sampling\n",
    "\n",
    "    \"alpha\": 0.0,                       # frustration\n",
    "    \"sigma\": noise_amplitude,           # noise amplitude\n",
    "    \"omega\": omega,                     # initial angular frequencies\n",
    "    'initial_state': initial_state,     # initial phase of oscillators\n",
    "    'control': [\"coupling\"],            # control parameters\n",
    "\n",
    "    \"use_omp\": False,                   # use OpenMP\n",
    "    \"output\": \"data\",                   # output directory\n",
    "    \"CALCUALTE_TE\": True,\n",
    "    \"CALCULATE_MI\": True\n",
    "}\n",
    "\n",
    "couplings = np.linspace(0.01, 0.3, 11)\n",
    "num_ensembles = 3\n",
    "# num_processes = 8\n",
    "num_threads = 1\n",
    "links = [(0, 1), (0, 2), (1, 2)]\n"
   ]
  },
  {
   "cell_type": "code",
   "execution_count": 5,
   "metadata": {},
   "outputs": [
    {
     "name": "stdout",
     "output_type": "stream",
     "text": [
      "compiled C code\n"
     ]
    }
   ],
   "source": [
    "# compilings ----------------------------------------------------\n",
    "sol = Kuramoto_II(parameters)\n",
    "sol.compile()"
   ]
  },
  {
   "cell_type": "code",
   "execution_count": 11,
   "metadata": {},
   "outputs": [],
   "source": [
    "data_F = simulateHalfLoop(parameters, \"forward\", couplings, links, num_threads=num_threads)"
   ]
  },
  {
   "cell_type": "code",
   "execution_count": 13,
   "metadata": {},
   "outputs": [],
   "source": [
    "data_B = simulateHalfLoop(parameters, \"backward\", couplings, links, num_threads=num_threads)"
   ]
  },
  {
   "cell_type": "code",
   "execution_count": 14,
   "metadata": {},
   "outputs": [
    {
     "data": {
      "image/png": "[encoded data removed]",
      "text/plain": [
       "<Figure size 288x288 with 1 Axes>"
      ]
     },
     "metadata": {
      "needs_background": "light"
     },
     "output_type": "display_data"
    }
   ],
   "source": [
    "plt.plot(couplings, data_F[\"R\"], label=\"Forward\")\n",
    "plt.plot(couplings[::-1], data_B[\"R\"], label=\"Backward\")\n",
    "plt.xlabel(\"Coupling\")\n",
    "plt.ylabel(\"R\")\n",
    "plt.legend();"
   ]
  },
  {
   "cell_type": "code",
   "execution_count": null,
   "metadata": {},
   "outputs": [],
   "source": []
  }
 ],
 "metadata": {
  "kernelspec": {
   "display_name": "Python 3.8.13 ('adaptiv_sync')",
   "language": "python",
   "name": "python3"
  },
  "language_info": {
   "codemirror_mode": {
    "name": "ipython",
    "version": 3
   },
   "file_extension": ".py",
   "mimetype": "text/x-python",
   "name": "python",
   "nbconvert_exporter": "python",
   "pygments_lexer": "ipython3",
   "version": "3.8.13"
  },
  "orig_nbformat": 4,
  "vscode": {
   "interpreter": {
    "hash": "8126bcdcce999c63abd0862cb75989290bd292d4682c4523e3665b3904000a96"
   }
  }
 },
 "nbformat": 4,
 "nbformat_minor": 2
}
